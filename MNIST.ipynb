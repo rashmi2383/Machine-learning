{
  "nbformat": 4,
  "nbformat_minor": 0,
  "metadata": {
    "accelerator": "GPU",
    "colab": {
      "name": "MNIST.ipynb",
      "provenance": [],
      "authorship_tag": "ABX9TyOEzFvWvQMEIR4UsLIOv7NF",
      "include_colab_link": true
    },
    "kernelspec": {
      "display_name": "Python 3",
      "name": "python3"
    }
  },
  "cells": [
    {
      "cell_type": "markdown",
      "metadata": {
        "id": "view-in-github",
        "colab_type": "text"
      },
      "source": [
        "<a href=\"https://colab.research.google.com/github/rashmi2383/Machine-learning/blob/main/MNIST.ipynb\" target=\"_parent\"><img src=\"https://colab.research.google.com/assets/colab-badge.svg\" alt=\"Open In Colab\"/></a>"
      ]
    },
    {
      "cell_type": "code",
      "metadata": {
        "id": "KDV-h-u_O1CH"
      },
      "source": [
        "#Description: This program classifies the MNIST handwritten digit images as a number  0 - 9\r\n",
        "!pip install tensorflow keras numpy mnist matplotlib\r\n",
        "\r\n"
      ],
      "execution_count": null,
      "outputs": []
    },
    {
      "cell_type": "code",
      "metadata": {
        "id": "DeeKer_2P5Bb"
      },
      "source": [
        "#import the packages/dependencies\r\n",
        "import numpy as np\r\n",
        "import mnist #get dataset from\r\n",
        "import matplotlib.pyplot as plt #Graph\r\n",
        "from keras.models import Sequential   #ANN\r\n",
        "from keras.layers import Dense #The layers in the ANN\r\n",
        "from keras.layers import Conv2D, MaxPool2D, Flatten, ZeroPadding2D, Activation\r\n",
        "from keras.utils  import to_categorical"
      ],
      "execution_count": 37,
      "outputs": []
    },
    {
      "cell_type": "code",
      "metadata": {
        "id": "TvYtFgo7QhAs"
      },
      "source": [
        "#load the dataset\r\n",
        "train_images = mnist.train_images()  #training data images\r\n",
        "train_labels = mnist.train_labels()  #training data labels\r\n",
        "test_images = mnist.test_images()    #training data images\r\n",
        "test_labels = mnist.test_labels()    #training data labels "
      ],
      "execution_count": 38,
      "outputs": []
    },
    {
      "cell_type": "code",
      "metadata": {
        "colab": {
          "base_uri": "https://localhost:8080/"
        },
        "id": "SWfdPvbFQ9YB",
        "outputId": "071011d5-1d3a-4e98-ce45-6e438e6e878e"
      },
      "source": [
        "#Normalizing the images. Normalize the pixel values from [0,255] to [-0.5,0.5] to make our network easier to train\r\n",
        "train_images = (train_images/255)  \r\n",
        "test_images = (test_images/255)\r\n",
        "#Flattening the images. Flatten each 28x28 image into a 784 dimensional vector to pass into the neural network\r\n",
        "#train_images = train_images.reshape((-1,784))\r\n",
        "#test_images = test_images.reshape((-1,784))\r\n",
        "train_images = train_images.reshape((-1,28,28,1))\r\n",
        "test_images = test_images.reshape((-1,28,28,1))\r\n",
        "#print the shape of our images\r\n",
        "print(train_images.shape)  #60,000 rows and 784 columns\r\n",
        "print(test_images.shape)   #10,000 rows and 784 columns "
      ],
      "execution_count": 40,
      "outputs": [
        {
          "output_type": "stream",
          "text": [
            "(60000, 28, 28, 1)\n",
            "(10000, 28, 28, 1)\n"
          ],
          "name": "stdout"
        }
      ]
    },
    {
      "cell_type": "code",
      "metadata": {
        "id": "5WyTUHOXSSWt"
      },
      "source": [
        "#Build the model\r\n",
        "#3 layers, 2 layers with 64 neurons and the relu function, 1 layer with 10 neurons and softmax function\r\n",
        "model = Sequential()\r\n",
        "model.add(ZeroPadding2D(padding=((1,0),(1,0))))\r\n",
        "#model.add(Dense(64, activation='relu',input_dim=784))\r\n",
        "model.add(Conv2D(5,kernel_size=(5,5),strides=(2,2),input_shape=train_images.shape[1:]))\r\n",
        "model.add(Activation('relu'))\r\n",
        "model.add(MaxPool2D(pool_size=(3,3),strides=1)) \r\n",
        "#model.add(Activation('relu'))\r\n",
        "model.add(Flatten())                #model.add(Dense(64, activation='relu'))\r\n",
        "model.add(Dense(10,activation='softmax'))"
      ],
      "execution_count": 52,
      "outputs": []
    },
    {
      "cell_type": "code",
      "metadata": {
        "id": "1HeVoZ2NS4Id"
      },
      "source": [
        "#compile the model\r\n",
        "#The loss function measures how well the model did on training and then tries to improve on it using the optimizer\r\n",
        "model.compile(\r\n",
        "    optimizer='adam',\r\n",
        "    loss = 'categorical_crossentropy', #(class that are greater than 2)\r\n",
        "    metrics = ['accuracy']\r\n",
        ")"
      ],
      "execution_count": 53,
      "outputs": []
    },
    {
      "cell_type": "code",
      "metadata": {
        "colab": {
          "base_uri": "https://localhost:8080/"
        },
        "id": "7QLVbZDSmPw9",
        "outputId": "2147b888-556a-4e86-f29f-57fa129627b7"
      },
      "source": [
        "train_images.shape[1:]"
      ],
      "execution_count": 17,
      "outputs": [
        {
          "output_type": "execute_result",
          "data": {
            "text/plain": [
              "(28, 28, 1)"
            ]
          },
          "metadata": {
            "tags": []
          },
          "execution_count": 17
        }
      ]
    },
    {
      "cell_type": "code",
      "metadata": {
        "colab": {
          "base_uri": "https://localhost:8080/"
        },
        "id": "k0InCKb6qTZK",
        "outputId": "02be5d7b-7832-4817-d033-18f6ff2ac13d"
      },
      "source": [
        "to_categorical(train_labels).shape"
      ],
      "execution_count": 9,
      "outputs": [
        {
          "output_type": "execute_result",
          "data": {
            "text/plain": [
              "(60000, 10)"
            ]
          },
          "metadata": {
            "tags": []
          },
          "execution_count": 9
        }
      ]
    },
    {
      "cell_type": "code",
      "metadata": {
        "colab": {
          "base_uri": "https://localhost:8080/"
        },
        "id": "1AsjE8LjTW0d",
        "outputId": "b716b9c6-b753-404b-94ce-48aaa5385758"
      },
      "source": [
        "#train the model\r\n",
        "model.fit(\r\n",
        "    train_images,\r\n",
        "    to_categorical(train_labels),                 #Ex. 2 it expects [0,0,1,0,0,0,0,0,0,0] \r\n",
        "    epochs=20,                        #the number of iterations over the entire dataset to train on\r\n",
        "    batch_size=32,                   #number of samples per gradient update for training\r\n",
        "    validation_split=0.2\r\n",
        ")\r\n",
        "model.summary()"
      ],
      "execution_count": 63,
      "outputs": [
        {
          "output_type": "stream",
          "text": [
            "Epoch 1/20\n",
            "1500/1500 [==============================] - 4s 3ms/step - loss: 0.0540 - accuracy: 0.9833 - val_loss: 0.0765 - val_accuracy: 0.9787\n",
            "Epoch 2/20\n",
            "1500/1500 [==============================] - 4s 2ms/step - loss: 0.0536 - accuracy: 0.9839 - val_loss: 0.0759 - val_accuracy: 0.9781\n",
            "Epoch 3/20\n",
            "1500/1500 [==============================] - 4s 2ms/step - loss: 0.0535 - accuracy: 0.9833 - val_loss: 0.0760 - val_accuracy: 0.9790\n",
            "Epoch 4/20\n",
            "1500/1500 [==============================] - 4s 2ms/step - loss: 0.0536 - accuracy: 0.9829 - val_loss: 0.0757 - val_accuracy: 0.9779\n",
            "Epoch 5/20\n",
            "1500/1500 [==============================] - 4s 2ms/step - loss: 0.0533 - accuracy: 0.9835 - val_loss: 0.0777 - val_accuracy: 0.9772\n",
            "Epoch 6/20\n",
            "1500/1500 [==============================] - 3s 2ms/step - loss: 0.0533 - accuracy: 0.9836 - val_loss: 0.0756 - val_accuracy: 0.9782\n",
            "Epoch 7/20\n",
            "1500/1500 [==============================] - 4s 2ms/step - loss: 0.0526 - accuracy: 0.9841 - val_loss: 0.0762 - val_accuracy: 0.9788\n",
            "Epoch 8/20\n",
            "1500/1500 [==============================] - 3s 2ms/step - loss: 0.0531 - accuracy: 0.9840 - val_loss: 0.0772 - val_accuracy: 0.9779\n",
            "Epoch 9/20\n",
            "1500/1500 [==============================] - 4s 2ms/step - loss: 0.0529 - accuracy: 0.9843 - val_loss: 0.0758 - val_accuracy: 0.9787\n",
            "Epoch 10/20\n",
            "1500/1500 [==============================] - 4s 3ms/step - loss: 0.0528 - accuracy: 0.9835 - val_loss: 0.0808 - val_accuracy: 0.9770\n",
            "Epoch 11/20\n",
            "1500/1500 [==============================] - 3s 2ms/step - loss: 0.0524 - accuracy: 0.9839 - val_loss: 0.0752 - val_accuracy: 0.9788\n",
            "Epoch 12/20\n",
            "1500/1500 [==============================] - 3s 2ms/step - loss: 0.0526 - accuracy: 0.9836 - val_loss: 0.0768 - val_accuracy: 0.9780\n",
            "Epoch 13/20\n",
            "1500/1500 [==============================] - 4s 2ms/step - loss: 0.0525 - accuracy: 0.9842 - val_loss: 0.0771 - val_accuracy: 0.9778\n",
            "Epoch 14/20\n",
            "1500/1500 [==============================] - 4s 2ms/step - loss: 0.0519 - accuracy: 0.9841 - val_loss: 0.0752 - val_accuracy: 0.9789\n",
            "Epoch 15/20\n",
            "1500/1500 [==============================] - 3s 2ms/step - loss: 0.0523 - accuracy: 0.9841 - val_loss: 0.0764 - val_accuracy: 0.9779\n",
            "Epoch 16/20\n",
            "1500/1500 [==============================] - 3s 2ms/step - loss: 0.0519 - accuracy: 0.9840 - val_loss: 0.0763 - val_accuracy: 0.9778\n",
            "Epoch 17/20\n",
            "1500/1500 [==============================] - 4s 2ms/step - loss: 0.0522 - accuracy: 0.9839 - val_loss: 0.0761 - val_accuracy: 0.9785\n",
            "Epoch 18/20\n",
            "1500/1500 [==============================] - 4s 2ms/step - loss: 0.0517 - accuracy: 0.9840 - val_loss: 0.0774 - val_accuracy: 0.9779\n",
            "Epoch 19/20\n",
            "1500/1500 [==============================] - 4s 2ms/step - loss: 0.0518 - accuracy: 0.9840 - val_loss: 0.0764 - val_accuracy: 0.9785\n",
            "Epoch 20/20\n",
            "1500/1500 [==============================] - 3s 2ms/step - loss: 0.0517 - accuracy: 0.9843 - val_loss: 0.0770 - val_accuracy: 0.9789\n",
            "Model: \"sequential_9\"\n",
            "_________________________________________________________________\n",
            "Layer (type)                 Output Shape              Param #   \n",
            "=================================================================\n",
            "zero_padding2d_9 (ZeroPaddin (32, 29, 29, 1)           0         \n",
            "_________________________________________________________________\n",
            "conv2d_9 (Conv2D)            (32, 13, 13, 5)           130       \n",
            "_________________________________________________________________\n",
            "activation_9 (Activation)    (32, 13, 13, 5)           0         \n",
            "_________________________________________________________________\n",
            "max_pooling2d_9 (MaxPooling2 (32, 11, 11, 5)           0         \n",
            "_________________________________________________________________\n",
            "flatten_9 (Flatten)          (32, 605)                 0         \n",
            "_________________________________________________________________\n",
            "dense_9 (Dense)              (32, 10)                  6060      \n",
            "=================================================================\n",
            "Total params: 6,190\n",
            "Trainable params: 6,190\n",
            "Non-trainable params: 0\n",
            "_________________________________________________________________\n"
          ],
          "name": "stdout"
        }
      ]
    },
    {
      "cell_type": "code",
      "metadata": {
        "colab": {
          "base_uri": "https://localhost:8080/"
        },
        "id": "yozZTA9hozo5",
        "outputId": "d5fce424-184a-4234-f6de-fb922a6c8092"
      },
      "source": [
        "model.layers[1].output"
      ],
      "execution_count": 17,
      "outputs": [
        {
          "output_type": "execute_result",
          "data": {
            "text/plain": [
              "<KerasTensor: shape=(None, 13, 13, 5) dtype=float32 (created by layer 'conv2d_3')>"
            ]
          },
          "metadata": {
            "tags": []
          },
          "execution_count": 17
        }
      ]
    },
    {
      "cell_type": "code",
      "metadata": {
        "colab": {
          "base_uri": "https://localhost:8080/"
        },
        "id": "eYhOlYboVK9K",
        "outputId": "23033b08-85cf-49e1-de4d-3d0d7cae4907"
      },
      "source": [
        "#Evaluate the model\r\n",
        "model.evaluate(\r\n",
        "    test_images,\r\n",
        "    to_categorical(test_labels)\r\n",
        ")"
      ],
      "execution_count": 68,
      "outputs": [
        {
          "output_type": "stream",
          "text": [
            "313/313 [==============================] - 1s 2ms/step - loss: 0.0666 - accuracy: 0.9786\n"
          ],
          "name": "stdout"
        },
        {
          "output_type": "execute_result",
          "data": {
            "text/plain": [
              "[0.06662221997976303, 0.978600025177002]"
            ]
          },
          "metadata": {
            "tags": []
          },
          "execution_count": 68
        }
      ]
    },
    {
      "cell_type": "code",
      "metadata": {
        "id": "2zrXvc5sV8F_"
      },
      "source": [
        "#Save the model\r\n",
        "model.save_weights('model.h5')"
      ],
      "execution_count": 69,
      "outputs": []
    },
    {
      "cell_type": "code",
      "metadata": {
        "colab": {
          "base_uri": "https://localhost:8080/"
        },
        "id": "9gkylF81WElR",
        "outputId": "fbb9e2d7-ced0-4025-f54b-15f532cde7f3"
      },
      "source": [
        "#predict on the first 5 test images\r\n",
        "predictions = model.predict(test_images[:6])\r\n",
        "#print our model's prediction \r\n",
        "print(np.argmax(predictions, axis=1))\r\n",
        "print(test_labels[:6])"
      ],
      "execution_count": 70,
      "outputs": [
        {
          "output_type": "stream",
          "text": [
            "[7 2 1 0 4 1]\n",
            "[7 2 1 0 4 1]\n"
          ],
          "name": "stdout"
        }
      ]
    },
    {
      "cell_type": "code",
      "metadata": {
        "id": "SotSwMFEWyja"
      },
      "source": [
        "for i in range(0,6):\r\n",
        "  first_image = test_images[i]\r\n",
        "  first_image = np.array(first_image, dtype='float')\r\n",
        "  pixels = first_image.reshape((28,28))\r\n",
        "  plt.imshow(pixels, cmap='gray')\r\n",
        "  plt.show()"
      ],
      "execution_count": null,
      "outputs": []
    },
    {
      "cell_type": "code",
      "metadata": {
        "id": "MejKdP60ZbzW",
        "colab": {
          "base_uri": "https://localhost:8080/"
        },
        "outputId": "ae2907f1-72ab-4f3b-b195-c70c6a61e4d3"
      },
      "source": [
        "print(model.weights)\r\n",
        "np.save('model.npy',model.get_weights())"
      ],
      "execution_count": 72,
      "outputs": [
        {
          "output_type": "stream",
          "text": [
            "[<tf.Variable 'conv2d_9/kernel:0' shape=(5, 5, 1, 5) dtype=float32, numpy=\n",
            "array([[[[ 1.48988886e+01,  2.25969386e+00,  1.60941988e-01,\n",
            "          -6.55490255e+00,  5.09958975e-02]],\n",
            "\n",
            "        [[ 1.16164579e+01, -7.81081855e-01, -1.79316271e-02,\n",
            "           3.40973163e+00,  1.51382089e-01]],\n",
            "\n",
            "        [[ 5.16546249e+00, -2.26924491e+00,  9.78401303e-02,\n",
            "           1.51229506e+01, -6.88023807e-04]],\n",
            "\n",
            "        [[-2.16462421e+00,  3.21288034e-02,  7.30890408e-02,\n",
            "           1.65534954e+01, -1.39797851e-01]],\n",
            "\n",
            "        [[-9.00408363e+00,  1.89344609e+00, -5.84464744e-02,\n",
            "           1.96979027e+01,  4.30291705e-02]]],\n",
            "\n",
            "\n",
            "       [[[ 7.26722765e+00,  1.20582609e+01, -1.39201030e-01,\n",
            "          -5.53431797e+00,  5.90908974e-02]],\n",
            "\n",
            "        [[ 1.37334042e+01,  8.34181023e+00,  1.40622869e-01,\n",
            "           5.89895201e+00,  1.23221420e-01]],\n",
            "\n",
            "        [[ 1.07049217e+01,  8.86701965e+00, -6.45360723e-02,\n",
            "           1.23417082e+01, -1.01674266e-01]],\n",
            "\n",
            "        [[-7.76448171e-04,  8.99938679e+00,  3.01802550e-02,\n",
            "           1.37219372e+01, -1.27481762e-02]],\n",
            "\n",
            "        [[-1.14109278e+01,  1.18958645e+01, -3.27373073e-02,\n",
            "           6.41696787e+00, -8.26975927e-02]]],\n",
            "\n",
            "\n",
            "       [[[-9.56999123e-01,  1.51639919e+01,  7.12837949e-02,\n",
            "          -1.51923585e+00, -9.51917395e-02]],\n",
            "\n",
            "        [[ 9.49256516e+00,  1.53792000e+01, -1.38057530e-01,\n",
            "           8.24448586e+00, -1.33331925e-01]],\n",
            "\n",
            "        [[ 1.66502113e+01,  1.49015532e+01, -1.37387067e-01,\n",
            "           1.64667168e+01, -1.47927478e-01]],\n",
            "\n",
            "        [[ 1.06319914e+01,  1.34817667e+01,  1.10883400e-01,\n",
            "           9.30099487e+00,  8.23160931e-02]],\n",
            "\n",
            "        [[-3.22900820e+00,  1.44962826e+01, -1.48817569e-01,\n",
            "          -1.25757992e+00,  5.27137592e-02]]],\n",
            "\n",
            "\n",
            "       [[[-5.63152266e+00,  3.35191274e+00, -2.86915060e-02,\n",
            "           3.00674248e+00,  5.86024150e-02]],\n",
            "\n",
            "        [[ 1.73533940e+00,  6.77571726e+00, -1.73424900e-01,\n",
            "           1.11766214e+01,  1.60377145e-01]],\n",
            "\n",
            "        [[ 1.28220482e+01,  5.24901819e+00,  6.62427396e-02,\n",
            "           1.42687922e+01, -6.77554756e-02]],\n",
            "\n",
            "        [[ 1.64653797e+01,  2.86254787e+00, -1.08103119e-01,\n",
            "           5.79369354e+00, -2.01390982e-01]],\n",
            "\n",
            "        [[ 6.29998016e+00,  4.56173372e+00,  7.24423751e-02,\n",
            "          -2.57902527e+00,  1.27172083e-01]]],\n",
            "\n",
            "\n",
            "       [[[-8.95681095e+00, -1.53871508e+01,  7.37820053e-03,\n",
            "           1.03567486e+01, -1.86005607e-01]],\n",
            "\n",
            "        [[-6.02143145e+00, -1.38685894e+01,  1.37954056e-01,\n",
            "           1.41722698e+01,  2.10022950e-03]],\n",
            "\n",
            "        [[ 4.13470936e+00, -1.38735456e+01,  2.13595871e-02,\n",
            "           1.42869520e+01, -6.70995265e-02]],\n",
            "\n",
            "        [[ 1.60943336e+01, -1.13239336e+01, -1.60911251e-02,\n",
            "           7.43253326e+00,  6.86371401e-02]],\n",
            "\n",
            "        [[ 1.68480949e+01, -5.12644005e+00, -1.75689399e-01,\n",
            "          -3.35065651e+00,  9.70828906e-02]]]], dtype=float32)>, <tf.Variable 'conv2d_9/bias:0' shape=(5,) dtype=float32, numpy=\n",
            "array([-0.06347179, -0.0019693 , -0.00433314, -0.02466804, -0.00774168],\n",
            "      dtype=float32)>, <tf.Variable 'dense_9/kernel:0' shape=(605, 10) dtype=float32, numpy=\n",
            "array([[ 2.5046124e+00, -1.1792754e-01, -7.8036493e-01, ...,\n",
            "        -2.7707583e-01, -4.2050567e+00,  4.0601063e+00],\n",
            "       [ 3.8028771e-01,  3.9228611e+00, -1.4699051e+00, ...,\n",
            "         1.4117491e+00,  2.2296257e+00, -6.9636168e+00],\n",
            "       [-8.1313223e-02,  9.7526163e-02,  8.3941221e-02, ...,\n",
            "        -6.1262537e-02,  7.2634622e-02,  4.4942752e-02],\n",
            "       ...,\n",
            "       [ 3.2845009e-02, -4.3826442e-02, -7.9616748e-02, ...,\n",
            "        -4.4896021e-03, -3.2926794e-02, -5.9802406e-02],\n",
            "       [-3.4126723e+00, -1.0346025e+00, -2.1197362e+00, ...,\n",
            "        -2.6681330e+00,  2.0899107e+00,  6.0729647e-01],\n",
            "       [ 3.6189485e-02,  2.2396995e-02, -8.0557361e-02, ...,\n",
            "         5.0128013e-02,  3.3840109e-02, -7.2382726e-02]], dtype=float32)>, <tf.Variable 'dense_9/bias:0' shape=(10,) dtype=float32, numpy=\n",
            "array([ 0.23050922,  1.8992308 ,  0.07163242, -1.38773   ,  2.4316256 ,\n",
            "        0.29998514, -1.331203  ,  1.50166   , -0.49260238, -2.4500723 ],\n",
            "      dtype=float32)>]\n"
          ],
          "name": "stdout"
        },
        {
          "output_type": "stream",
          "text": [
            "/usr/local/lib/python3.6/dist-packages/numpy/core/_asarray.py:136: VisibleDeprecationWarning: Creating an ndarray from ragged nested sequences (which is a list-or-tuple of lists-or-tuples-or ndarrays with different lengths or shapes) is deprecated. If you meant to do this, you must specify 'dtype=object' when creating the ndarray\n",
            "  return array(a, dtype, copy=False, order=order, subok=True)\n"
          ],
          "name": "stderr"
        }
      ]
    },
    {
      "cell_type": "code",
      "metadata": {
        "colab": {
          "base_uri": "https://localhost:8080/"
        },
        "id": "MVL_2ezaNtbm",
        "outputId": "d5a6c256-86f8-413f-9d6f-2482939bfb4a"
      },
      "source": [
        "print(model.layers[1].get_weights()[0])\r\n",
        "#print(model.layers[1].get_weights()[1])"
      ],
      "execution_count": 71,
      "outputs": [
        {
          "output_type": "stream",
          "text": [
            "[[[[ 1.48988886e+01  2.25969386e+00  1.60941988e-01 -6.55490255e+00\n",
            "     5.09958975e-02]]\n",
            "\n",
            "  [[ 1.16164579e+01 -7.81081855e-01 -1.79316271e-02  3.40973163e+00\n",
            "     1.51382089e-01]]\n",
            "\n",
            "  [[ 5.16546249e+00 -2.26924491e+00  9.78401303e-02  1.51229506e+01\n",
            "    -6.88023807e-04]]\n",
            "\n",
            "  [[-2.16462421e+00  3.21288034e-02  7.30890408e-02  1.65534954e+01\n",
            "    -1.39797851e-01]]\n",
            "\n",
            "  [[-9.00408363e+00  1.89344609e+00 -5.84464744e-02  1.96979027e+01\n",
            "     4.30291705e-02]]]\n",
            "\n",
            "\n",
            " [[[ 7.26722765e+00  1.20582609e+01 -1.39201030e-01 -5.53431797e+00\n",
            "     5.90908974e-02]]\n",
            "\n",
            "  [[ 1.37334042e+01  8.34181023e+00  1.40622869e-01  5.89895201e+00\n",
            "     1.23221420e-01]]\n",
            "\n",
            "  [[ 1.07049217e+01  8.86701965e+00 -6.45360723e-02  1.23417082e+01\n",
            "    -1.01674266e-01]]\n",
            "\n",
            "  [[-7.76448171e-04  8.99938679e+00  3.01802550e-02  1.37219372e+01\n",
            "    -1.27481762e-02]]\n",
            "\n",
            "  [[-1.14109278e+01  1.18958645e+01 -3.27373073e-02  6.41696787e+00\n",
            "    -8.26975927e-02]]]\n",
            "\n",
            "\n",
            " [[[-9.56999123e-01  1.51639919e+01  7.12837949e-02 -1.51923585e+00\n",
            "    -9.51917395e-02]]\n",
            "\n",
            "  [[ 9.49256516e+00  1.53792000e+01 -1.38057530e-01  8.24448586e+00\n",
            "    -1.33331925e-01]]\n",
            "\n",
            "  [[ 1.66502113e+01  1.49015532e+01 -1.37387067e-01  1.64667168e+01\n",
            "    -1.47927478e-01]]\n",
            "\n",
            "  [[ 1.06319914e+01  1.34817667e+01  1.10883400e-01  9.30099487e+00\n",
            "     8.23160931e-02]]\n",
            "\n",
            "  [[-3.22900820e+00  1.44962826e+01 -1.48817569e-01 -1.25757992e+00\n",
            "     5.27137592e-02]]]\n",
            "\n",
            "\n",
            " [[[-5.63152266e+00  3.35191274e+00 -2.86915060e-02  3.00674248e+00\n",
            "     5.86024150e-02]]\n",
            "\n",
            "  [[ 1.73533940e+00  6.77571726e+00 -1.73424900e-01  1.11766214e+01\n",
            "     1.60377145e-01]]\n",
            "\n",
            "  [[ 1.28220482e+01  5.24901819e+00  6.62427396e-02  1.42687922e+01\n",
            "    -6.77554756e-02]]\n",
            "\n",
            "  [[ 1.64653797e+01  2.86254787e+00 -1.08103119e-01  5.79369354e+00\n",
            "    -2.01390982e-01]]\n",
            "\n",
            "  [[ 6.29998016e+00  4.56173372e+00  7.24423751e-02 -2.57902527e+00\n",
            "     1.27172083e-01]]]\n",
            "\n",
            "\n",
            " [[[-8.95681095e+00 -1.53871508e+01  7.37820053e-03  1.03567486e+01\n",
            "    -1.86005607e-01]]\n",
            "\n",
            "  [[-6.02143145e+00 -1.38685894e+01  1.37954056e-01  1.41722698e+01\n",
            "     2.10022950e-03]]\n",
            "\n",
            "  [[ 4.13470936e+00 -1.38735456e+01  2.13595871e-02  1.42869520e+01\n",
            "    -6.70995265e-02]]\n",
            "\n",
            "  [[ 1.60943336e+01 -1.13239336e+01 -1.60911251e-02  7.43253326e+00\n",
            "     6.86371401e-02]]\n",
            "\n",
            "  [[ 1.68480949e+01 -5.12644005e+00 -1.75689399e-01 -3.35065651e+00\n",
            "     9.70828906e-02]]]]\n"
          ],
          "name": "stdout"
        }
      ]
    },
    {
      "cell_type": "code",
      "metadata": {
        "colab": {
          "base_uri": "https://localhost:8080/"
        },
        "id": "tmyySPJBOik6",
        "outputId": "4a110842-e765-4016-e804-e9f397b6f865"
      },
      "source": [
        "print(model.layers[0].get_config())"
      ],
      "execution_count": 29,
      "outputs": [
        {
          "output_type": "stream",
          "text": [
            "{'name': 'zero_padding2d_3', 'trainable': True, 'dtype': 'float32', 'padding': ((1, 0), (1, 0)), 'data_format': 'channels_last'}\n"
          ],
          "name": "stdout"
        }
      ]
    },
    {
      "cell_type": "code",
      "metadata": {
        "colab": {
          "base_uri": "https://localhost:8080/"
        },
        "id": "sEQaD0BJOsMn",
        "outputId": "205731d4-4c9b-4921-9cc4-5b09517171e8"
      },
      "source": [
        "print(model.layers[1].get_config())"
      ],
      "execution_count": 30,
      "outputs": [
        {
          "output_type": "stream",
          "text": [
            "{'name': 'conv2d_3', 'trainable': True, 'batch_input_shape': (None, 28, 28, 1), 'dtype': 'float32', 'filters': 5, 'kernel_size': (5, 5), 'strides': (2, 2), 'padding': 'valid', 'data_format': 'channels_last', 'dilation_rate': (1, 1), 'groups': 1, 'activation': 'linear', 'use_bias': True, 'kernel_initializer': {'class_name': 'GlorotUniform', 'config': {'seed': None}}, 'bias_initializer': {'class_name': 'Zeros', 'config': {}}, 'kernel_regularizer': None, 'bias_regularizer': None, 'activity_regularizer': None, 'kernel_constraint': None, 'bias_constraint': None}\n"
          ],
          "name": "stdout"
        }
      ]
    },
    {
      "cell_type": "code",
      "metadata": {
        "colab": {
          "base_uri": "https://localhost:8080/"
        },
        "id": "3J74WcSnO0cG",
        "outputId": "62788ade-9e20-47f5-fab6-33cd5758bb1c"
      },
      "source": [
        "print(model.layers[2].get_config())"
      ],
      "execution_count": 31,
      "outputs": [
        {
          "output_type": "stream",
          "text": [
            "{'name': 'activation_3', 'trainable': True, 'dtype': 'float32', 'activation': 'relu'}\n"
          ],
          "name": "stdout"
        }
      ]
    },
    {
      "cell_type": "code",
      "metadata": {
        "colab": {
          "base_uri": "https://localhost:8080/"
        },
        "id": "D1tCY57LP_83",
        "outputId": "c1152895-1fe5-48a7-d06d-278d04fcf0ee"
      },
      "source": [
        "print(model.layers[3].get_config())"
      ],
      "execution_count": 32,
      "outputs": [
        {
          "output_type": "stream",
          "text": [
            "{'name': 'max_pooling2d_3', 'trainable': True, 'dtype': 'float32', 'pool_size': (3, 3), 'padding': 'valid', 'strides': (1, 1), 'data_format': 'channels_last'}\n"
          ],
          "name": "stdout"
        }
      ]
    },
    {
      "cell_type": "code",
      "metadata": {
        "colab": {
          "base_uri": "https://localhost:8080/"
        },
        "id": "UO751FmVQDWX",
        "outputId": "261cbe47-f397-40db-9931-d530b874f839"
      },
      "source": [
        "print(model.layers[4].get_config())"
      ],
      "execution_count": 33,
      "outputs": [
        {
          "output_type": "stream",
          "text": [
            "{'name': 'flatten_3', 'trainable': True, 'dtype': 'float32', 'data_format': 'channels_last'}\n"
          ],
          "name": "stdout"
        }
      ]
    },
    {
      "cell_type": "code",
      "metadata": {
        "colab": {
          "base_uri": "https://localhost:8080/"
        },
        "id": "KCs4b0S1QHtK",
        "outputId": "bf0aa3be-bb02-46a1-977e-6db4cacf2364"
      },
      "source": [
        "print(model.layers[5].get_config())"
      ],
      "execution_count": 34,
      "outputs": [
        {
          "output_type": "stream",
          "text": [
            "{'name': 'dense_3', 'trainable': True, 'dtype': 'float32', 'units': 10, 'activation': 'softmax', 'use_bias': True, 'kernel_initializer': {'class_name': 'GlorotUniform', 'config': {'seed': None}}, 'bias_initializer': {'class_name': 'Zeros', 'config': {}}, 'kernel_regularizer': None, 'bias_regularizer': None, 'activity_regularizer': None, 'kernel_constraint': None, 'bias_constraint': None}\n"
          ],
          "name": "stdout"
        }
      ]
    }
  ]
}